{
 "cells": [
  {
   "cell_type": "code",
   "execution_count": 1,
   "id": "daaec198-2865-46fc-aad0-c56b6afcfcbf",
   "metadata": {},
   "outputs": [],
   "source": [
    "#!pip install gradio  \n",
    "#!pip install  transformers\n",
    "#!pip install nltk\n",
    "#!pip install sentencepiece\n"
   ]
  },
  {
   "cell_type": "code",
   "execution_count": 2,
   "id": "d31a3da0-69e5-4813-a36b-79004541444e",
   "metadata": {},
   "outputs": [],
   "source": [
    "\n",
    "import gradio as gr\n",
    "import re\n",
    "import warnings\n",
    "\n",
    "#from gradio.mix import Parallel\n",
    "from nltk.tokenize import sent_tokenize\n",
    "from transformers import (\n",
    "    AutoTokenizer,\n",
    "    AutoModel,\n",
    "    AutoModelForSeq2SeqLM,\n",
    "    Wav2Vec2ForCTC,\n",
    "    Wav2Vec2Tokenizer,\n",
    "    pipeline,\n",
    ")\n",
    "\n",
    "warnings.filterwarnings('ignore')"
   ]
  },
  {
   "cell_type": "markdown",
   "id": "c2e0c69e-5ee7-416a-86af-cff477151b1d",
   "metadata": {},
   "source": [
    "**Load Data and Define Summarizing functions**"
   ]
  },
  {
   "cell_type": "code",
   "execution_count": 3,
   "id": "6252d084-675c-40d0-8652-63df2870c970",
   "metadata": {},
   "outputs": [],
   "source": [
    "import pickle\n",
    "\n",
    "with open('C:/Users/omuku/OneDrive/Desktop/Capstone Project/cleaned_data.pkl', 'rb') as file:\n",
    "     dataset = pickle.load(file)"
   ]
  },
  {
   "cell_type": "markdown",
   "id": "4ce09a61-21d5-4a9c-ad58-1edeb17a1169",
   "metadata": {},
   "source": [
    "** Summarization using Hugging  Face's Model Hub**"
   ]
  },
  {
   "cell_type": "code",
   "execution_count": 4,
   "id": "ef7ec2ff-2c51-4779-bd4c-358577ecdc0f",
   "metadata": {},
   "outputs": [],
   "source": [
    "model_name = \"google/pegasus-cnn_dailymail\" \n",
    "\n",
    "#summarization function\n",
    "def google_summarizer(dataset):\n",
    "    input_texts = dataset\n",
    "    \n",
    "    tokenizer_pegasus = AutoTokenizer.from_pretrained(model_name)\n",
    "\n",
    "    model_pegasus = AutoModelForSeq2SeqLM.from_pretrained(model_name)\n",
    "\n",
    "    batch = tokenizer_pegasus.prepare_seq2seq_batch(\n",
    "        input_texts, truncation=True, padding=\"longest\", return_tensors=\"pt\"\n",
    "    )\n",
    "    translated = model_pegasus.generate(**batch)\n",
    "\n",
    "    pegasus_summary = tokenizer_pegasus.batch_decode(\n",
    "        translated, skip_special_tokens=True\n",
    "    )\n",
    "\n",
    "    return pegasus_summary[0]\n",
    "\n",
    "\n",
    "summary2 = gr.Interface(\n",
    "    fn=google_summarizer,\n",
    "    inputs=gr.Textbox(),\n",
    "    outputs=gr.Textbox(label=\"Summary by Google/Pegasus-CNN-Dailymail\"),\n",
    ")"
   ]
  },
  {
   "cell_type": "markdown",
   "id": "c3c1108b-cbe5-41c9-96fa-701d3af72f93",
   "metadata": {},
   "source": [
    "**Launch the Model**"
   ]
  },
  {
   "cell_type": "code",
   "execution_count": 7,
   "id": "35490f60-b80d-4916-bb89-6d6ce153d900",
   "metadata": {},
   "outputs": [
    {
     "name": "stdout",
     "output_type": "stream",
     "text": [
      "Running on local URL:  http://127.0.0.1:7861\n",
      "Running on public URL: https://dc475ff194921960a6.gradio.live\n",
      "\n",
      "This share link expires in 72 hours. For free permanent hosting and GPU upgrades, run `gradio deploy` from Terminal to deploy to Spaces (https://huggingface.co/spaces)\n"
     ]
    },
    {
     "data": {
      "text/html": [
       "<div><iframe src=\"https://dc475ff194921960a6.gradio.live\" width=\"100%\" height=\"500\" allow=\"autoplay; camera; microphone; clipboard-read; clipboard-write;\" frameborder=\"0\" allowfullscreen></iframe></div>"
      ],
      "text/plain": [
       "<IPython.core.display.HTML object>"
      ]
     },
     "metadata": {},
     "output_type": "display_data"
    },
    {
     "data": {
      "text/plain": []
     },
     "execution_count": 7,
     "metadata": {},
     "output_type": "execute_result"
    }
   ],
   "source": [
    "# Create a Gradio Interface with parallel inputs\n",
    "iface = gr.Interface(\n",
    "    fn=summary2,  \n",
    "    inputs=gr.Textbox(lines=20, label=\"Paste some text here\"),\n",
    "    outputs=[\"text\"],  \n",
    "    title=\"AI Summarizers\"\n",
    ")\n",
    "\n",
    "# Launch the interface\n",
    "iface.launch(share=True)"
   ]
  },
  {
   "cell_type": "code",
   "execution_count": null,
   "id": "788c1fef-66da-4a74-880c-01b6eacd5450",
   "metadata": {},
   "outputs": [],
   "source": []
  }
 ],
 "metadata": {
  "kernelspec": {
   "display_name": "Python 3 (ipykernel)",
   "language": "python",
   "name": "python3"
  },
  "language_info": {
   "codemirror_mode": {
    "name": "ipython",
    "version": 3
   },
   "file_extension": ".py",
   "mimetype": "text/x-python",
   "name": "python",
   "nbconvert_exporter": "python",
   "pygments_lexer": "ipython3",
   "version": "3.11.7"
  }
 },
 "nbformat": 4,
 "nbformat_minor": 5
}
